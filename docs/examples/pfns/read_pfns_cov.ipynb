{
 "cells": [
  {
   "cell_type": "code",
   "execution_count": 64,
   "metadata": {},
   "outputs": [],
   "source": [
    "from pyerr import ErrorrOutput\n",
    "import matplotlib.pyplot as plt\n",
    "import numpy as np"
   ]
  },
  {
   "cell_type": "code",
   "execution_count": 84,
   "metadata": {},
   "outputs": [],
   "source": [
    "# path to tape28 file for U235 ENDF-7.1\n",
    "fle = \"tape28\""
   ]
  },
  {
   "cell_type": "markdown",
   "metadata": {},
   "source": [
    "create `ErrorrOutput` object without energy limits"
   ]
  },
  {
   "cell_type": "code",
   "execution_count": 66,
   "metadata": {},
   "outputs": [],
   "source": [
    "output = ErrorrOutput(fle)"
   ]
  },
  {
   "cell_type": "markdown",
   "metadata": {},
   "source": [
    "for PFNS, need to look at MT (section) 18, which is fission"
   ]
  },
  {
   "cell_type": "code",
   "execution_count": 67,
   "metadata": {},
   "outputs": [
    {
     "data": {
      "text/plain": [
       "dict_keys([18])"
      ]
     },
     "execution_count": 67,
     "metadata": {},
     "output_type": "execute_result"
    }
   ],
   "source": [
    "output.sections.keys()"
   ]
  },
  {
   "cell_type": "markdown",
   "metadata": {},
   "source": [
    "which is the only MT in this NJOY calculation anyway"
   ]
  },
  {
   "cell_type": "code",
   "execution_count": 68,
   "metadata": {},
   "outputs": [],
   "source": [
    "pfns = output.sections[18]"
   ]
  },
  {
   "cell_type": "markdown",
   "metadata": {},
   "source": [
    "`pfns` is a Section object"
   ]
  },
  {
   "cell_type": "code",
   "execution_count": 69,
   "metadata": {},
   "outputs": [
    {
     "data": {
      "text/plain": [
       "<pyerr._section.Section at 0x7f44bcb1e440>"
      ]
     },
     "execution_count": 69,
     "metadata": {},
     "output_type": "execute_result"
    }
   ],
   "source": [
    "pfns"
   ]
  },
  {
   "cell_type": "markdown",
   "metadata": {},
   "source": [
    "the doc string lists the attributes and methods"
   ]
  },
  {
   "cell_type": "code",
   "execution_count": 70,
   "metadata": {},
   "outputs": [
    {
     "name": "stdout",
     "output_type": "stream",
     "text": [
      "Help on Section in module pyerr._section object:\n",
      "\n",
      "class Section(builtins.object)\n",
      " |  Section(energy_lines, mean_lines, covariance_lines, lower_limit=None, upper_limit=None)\n",
      " |  \n",
      " |  Class to hold a single section (MT value) from an ERRORR file, which includes\n",
      " |  the energy grid, the mean value, and the covariance matrix\n",
      " |  \n",
      " |  Parameters\n",
      " |  ----------\n",
      " |  energy_lines : list\n",
      " |      list of the lines from the file corresponding to the energy grid\n",
      " |  \n",
      " |  mean_lines : list\n",
      " |      list of the lines from the file corresponding to the mean values\n",
      " |  \n",
      " |  covariance_lines : list\n",
      " |      list of the lines from the file corresponding to the covariance\n",
      " |  \n",
      " |  lower_limit : float, optional, default is None\n",
      " |      the lower limit in energy (eV) to cut the values at. If not given, uses the lower \n",
      " |      limit of the matrix in the file. If given, will cut out groups below the lower \n",
      " |      limit. If the lower limit falls within a group, that group is kept\n",
      " |  \n",
      " |  \n",
      " |  upper_limit : float, optional, default is None\n",
      " |      the upper limit in energy (eV) to cut the values at. If not given, uses the upper \n",
      " |      limit of the matrix in the file. If given, will cut out groups below the upper \n",
      " |      limit. If the upper limit falls within a group, that group is kept\n",
      " |  \n",
      " |  Attributes\n",
      " |  ----------\n",
      " |  MAT : int\n",
      " |      Material number\n",
      " |  \n",
      " |  MF : int\n",
      " |      File number\n",
      " |  \n",
      " |  MT : int\n",
      " |      Section/reaction number\n",
      " |  \n",
      " |  incident_energy : float\n",
      " |      Incident energy in eV\n",
      " |  \n",
      " |  num_groups : int\n",
      " |      Number of energy groups\n",
      " |      \n",
      " |  group_boundaries : int\n",
      " |      Boundaries of the energy groups\n",
      " |  \n",
      " |  mean_values : list\n",
      " |      Mean values of the quantity\n",
      " |  \n",
      " |  covariance_matrix : np.array\n",
      " |      Relative covariance matrix\n",
      " |  \n",
      " |  abs_covariance_matrix : np.array\n",
      " |      Absolute covariance matrix\n",
      " |  \n",
      " |  uncertainty : np.array\n",
      " |      The uncertainty values\n",
      " |  \n",
      " |  abs_uncertainty : np.array\n",
      " |      The absolute uncertainty values\n",
      " |  \n",
      " |  correlation_matrix : np.array\n",
      " |      Correlation matrix\n",
      " |  \n",
      " |  eig_values : np.array\n",
      " |      Sorted (largest to smallest) eigen values of the\n",
      " |      absolute covariance matrix\n",
      " |  \n",
      " |  eig_vectors : np.array\n",
      " |      Sorted (largest to smallest) eigen vectors of the\n",
      " |      absolute covariance matrix\n",
      " |  \n",
      " |  unc_convergence_table : pandas DataFrame\n",
      " |      pandas DataFrame with the absolute and relative difference\n",
      " |      between the overall uncertainty and the uncertainty of\n",
      " |      the covariance matrix reconstructed with k eigenvalues\n",
      " |  \n",
      " |  Methods\n",
      " |  -------\n",
      " |  get_correlation_matrix\n",
      " |      Function to get the uncertainty vector and correlation matrix\n",
      " |  \n",
      " |  get_eigenvalues\n",
      " |      Function to get sorted eigenvalues and eigenvectors\n",
      " |      of the absolute covariance matrix\n",
      " |  \n",
      " |  reconstruct_covariance \n",
      " |      Function to reconstruct the covariance matrix from the \n",
      " |      largest k eigenvalues\n",
      " |  \n",
      " |  get_pca_realizations\n",
      " |      Function to sample realizations by PCA, using the largest\n",
      " |      k components.\n",
      " |  \n",
      " |  quantify_uncertainty_convergence\n",
      " |      Function to quantify the convergence of the uncertainty vector\n",
      " |      as more PCA eigenvalues are added, optionally between certain\n",
      " |      energies.\n",
      " |  \n",
      " |  Methods defined here:\n",
      " |  \n",
      " |  __init__(self, energy_lines, mean_lines, covariance_lines, lower_limit=None, upper_limit=None)\n",
      " |      Initialize self.  See help(type(self)) for accurate signature.\n",
      " |  \n",
      " |  get_correlation_matrix(self)\n",
      " |      Function to get the uncertainty vector and correlation matrix\n",
      " |  \n",
      " |  get_eigenvalues(self)\n",
      " |      Function to get and sort eigenvalues and eigenvectors\n",
      " |      of the absolute covariance matrix\n",
      " |  \n",
      " |  get_pca_realizations(self, num_samples, k=None)\n",
      " |      Function to sample realizations by PCA, using the largest\n",
      " |      k components.\n",
      " |      \n",
      " |      Parameters\n",
      " |      ----------\n",
      " |      num_samples : int\n",
      " |          The number of samples\n",
      " |      \n",
      " |      k : int, optional, default is None\n",
      " |          the number of eigenvalues to use. If None, will use\n",
      " |          all of the eigenvalues of the covariane matrix\n",
      " |      \n",
      " |      Returns\n",
      " |      -------\n",
      " |      numpy array\n",
      " |          the sampled realizations\n",
      " |  \n",
      " |  quantify_uncertainty_convergence(self, e_min=0, e_max=30000000.0)\n",
      " |      Function to quantify the convergence of the uncertainty vector\n",
      " |      as more PCA eigenvalues are added, optionally between certain\n",
      " |      energies.\n",
      " |      \n",
      " |      Parameters\n",
      " |      ----------\n",
      " |      e_min : float, optional, default is 0 eV\n",
      " |          minimum energy to check for convergence at\n",
      " |      \n",
      " |      e_max : float, optional, default is 30 MeV\n",
      " |          maximum energy to check for convergence at\n",
      " |      \n",
      " |      Returns\n",
      " |      -------\n",
      " |      None, creates the attribute unc_convergence_table\n",
      " |  \n",
      " |  reconstruct_covariance(self, k=None)\n",
      " |      Function to reconstruct the covariance matrix from the \n",
      " |      largest k eigenvalues\n",
      " |      \n",
      " |      Parameters\n",
      " |      ----------\n",
      " |      k : int, optional, default is None\n",
      " |          the number of eigenvalues to use. If None, will use\n",
      " |          all of the eigenvalues of the covariane matrix\n",
      " |      \n",
      " |      Returns\n",
      " |      -------\n",
      " |      numpy array \n",
      " |          The covariance matrix reconstructed from the top k\n",
      " |          eigenvalues\n",
      " |  \n",
      " |  ----------------------------------------------------------------------\n",
      " |  Readonly properties defined here:\n",
      " |  \n",
      " |  MAT\n",
      " |  \n",
      " |  MF\n",
      " |  \n",
      " |  MT\n",
      " |  \n",
      " |  covariance_matrix\n",
      " |  \n",
      " |  group_boundaries\n",
      " |  \n",
      " |  incident_energy\n",
      " |  \n",
      " |  mean_values\n",
      " |  \n",
      " |  num_groups\n",
      " |  \n",
      " |  ----------------------------------------------------------------------\n",
      " |  Data descriptors defined here:\n",
      " |  \n",
      " |  __dict__\n",
      " |      dictionary for instance variables (if defined)\n",
      " |  \n",
      " |  __weakref__\n",
      " |      list of weak references to the object (if defined)\n",
      "\n"
     ]
    }
   ],
   "source": [
    "help(pfns)"
   ]
  },
  {
   "cell_type": "markdown",
   "metadata": {},
   "source": [
    "the MAT, MF, and MT values are on the section"
   ]
  },
  {
   "cell_type": "code",
   "execution_count": 71,
   "metadata": {},
   "outputs": [
    {
     "data": {
      "text/plain": [
       "(9228, 5, 18)"
      ]
     },
     "execution_count": 71,
     "metadata": {},
     "output_type": "execute_result"
    }
   ],
   "source": [
    "pfns.MAT, pfns.MF, pfns.MT"
   ]
  },
  {
   "cell_type": "markdown",
   "metadata": {},
   "source": [
    "the incident energy representing the group (called `efmean`)"
   ]
  },
  {
   "cell_type": "code",
   "execution_count": 72,
   "metadata": {},
   "outputs": [
    {
     "data": {
      "text/plain": [
       "'0.25 MeV'"
      ]
     },
     "execution_count": 72,
     "metadata": {},
     "output_type": "execute_result"
    }
   ],
   "source": [
    "f\"{pfns.incident_energy/1e6} MeV\""
   ]
  },
  {
   "cell_type": "markdown",
   "metadata": {},
   "source": [
    "The PFNS itself is in the `mean_values` attribute"
   ]
  },
  {
   "cell_type": "code",
   "execution_count": 73,
   "metadata": {},
   "outputs": [
    {
     "data": {
      "text/plain": [
       "array([1.313262e-08, 4.218382e-09, 4.531685e-09, 4.824643e-09,\n",
       "       5.100774e-09, 5.362685e-09, 5.612374e-09, 5.851407e-09,\n",
       "       6.081045e-09, 6.302315e-09, 6.516070e-09, 6.723029e-09,\n",
       "       6.923801e-09, 7.118910e-09, 7.308812e-09, 7.493900e-09,\n",
       "       7.674523e-09, 7.850990e-09, 8.023577e-09, 8.192528e-09,\n",
       "       8.358062e-09, 8.520381e-09, 8.679664e-09, 8.836076e-09,\n",
       "       8.989764e-09, 9.140869e-09, 9.289516e-09, 9.435820e-09,\n",
       "       9.579891e-09, 9.721826e-09, 9.861718e-09, 9.999652e-09,\n",
       "       1.013571e-08, 1.026996e-08, 1.040249e-08, 1.053334e-08,\n",
       "       1.066259e-08, 1.079029e-08, 1.091649e-08, 1.104125e-08,\n",
       "       1.116462e-08, 1.128664e-08, 1.140735e-08, 1.152680e-08,\n",
       "       1.164503e-08, 1.226862e-07, 1.333930e-07, 1.432996e-07,\n",
       "       1.525627e-07, 1.612936e-07, 1.695749e-07, 1.774696e-07,\n",
       "       1.850272e-07, 1.922877e-07, 1.992835e-07, 2.060418e-07,\n",
       "       2.125848e-07, 2.189323e-07, 2.251007e-07, 2.311043e-07,\n",
       "       2.369556e-07, 2.426658e-07, 2.482446e-07, 2.537006e-07,\n",
       "       2.590415e-07, 2.642744e-07, 2.694055e-07, 2.744406e-07,\n",
       "       2.793850e-07, 2.842430e-07, 2.890194e-07, 2.937181e-07,\n",
       "       2.983426e-07, 3.028965e-07, 3.073827e-07, 3.118043e-07,\n",
       "       3.161641e-07, 3.204644e-07, 3.247076e-07, 3.288962e-07,\n",
       "       3.330318e-07, 3.371166e-07, 3.411526e-07, 3.451412e-07,\n",
       "       3.490841e-07, 3.529829e-07, 3.568391e-07, 3.606540e-07,\n",
       "       3.644288e-07, 3.681648e-07, 3.878702e-06, 4.217001e-06,\n",
       "       4.529973e-06, 4.822576e-06, 5.098330e-06, 5.359844e-06,\n",
       "       5.609116e-06, 5.847714e-06, 6.076897e-06, 6.297696e-06,\n",
       "       6.510961e-06, 6.717415e-06, 6.917668e-06, 7.112240e-06,\n",
       "       7.301590e-06, 7.486113e-06, 7.666156e-06, 7.842030e-06,\n",
       "       8.014009e-06, 8.182337e-06, 8.347238e-06, 8.508911e-06,\n",
       "       8.667534e-06, 8.823272e-06, 8.976277e-06, 9.126685e-06,\n",
       "       9.274624e-06, 9.420209e-06, 9.563548e-06, 9.704740e-06,\n",
       "       9.843877e-06, 9.981047e-06, 1.011633e-05, 1.024980e-05,\n",
       "       1.038152e-05, 1.051157e-05, 1.063999e-05, 1.076686e-05,\n",
       "       1.089223e-05, 1.101615e-05, 1.113865e-05, 1.125980e-05,\n",
       "       1.137964e-05, 1.149820e-05, 1.161553e-05, 1.223396e-04,\n",
       "       1.329466e-04, 1.427449e-04, 1.518918e-04, 1.604989e-04,\n",
       "       1.686490e-04, 1.764056e-04, 1.838184e-04, 1.909274e-04,\n",
       "       1.977654e-04, 2.043594e-04, 2.107325e-04, 2.169040e-04,\n",
       "       2.228904e-04, 2.287064e-04, 2.343644e-04, 2.398757e-04,\n",
       "       2.452500e-04, 2.504963e-04, 2.556221e-04, 2.606344e-04,\n",
       "       2.655399e-04, 2.703442e-04, 2.750524e-04, 2.796696e-04,\n",
       "       2.842001e-04, 2.886477e-04, 2.930164e-04, 2.973095e-04,\n",
       "       3.015303e-04, 3.056816e-04, 3.097661e-04, 3.137865e-04,\n",
       "       3.177452e-04, 3.216444e-04, 3.254860e-04, 3.292724e-04,\n",
       "       3.330052e-04, 3.366860e-04, 3.403166e-04, 3.438986e-04,\n",
       "       3.474334e-04, 3.509224e-04, 3.543670e-04, 3.577681e-04,\n",
       "       3.755248e-03, 4.055247e-03, 4.325753e-03, 4.571859e-03,\n",
       "       4.797167e-03, 5.004388e-03, 5.195601e-03, 5.372459e-03,\n",
       "       5.536300e-03, 5.688190e-03, 5.828951e-03, 5.959274e-03,\n",
       "       6.079736e-03, 6.191101e-03, 6.294051e-03, 6.388907e-03,\n",
       "       6.475474e-03, 6.553015e-03, 6.621604e-03, 6.682613e-03,\n",
       "       6.737257e-03, 6.785763e-03, 6.827614e-03, 6.862463e-03,\n",
       "       6.891150e-03, 6.914859e-03, 6.934454e-03, 6.950413e-03,\n",
       "       6.962979e-03, 6.972119e-03, 6.977996e-03, 6.980893e-03,\n",
       "       6.981069e-03, 6.978667e-03, 6.973870e-03, 6.966903e-03,\n",
       "       6.957927e-03, 6.947074e-03, 6.934459e-03, 6.920200e-03,\n",
       "       6.904442e-03, 6.887263e-03, 6.868712e-03, 6.848838e-03,\n",
       "       6.827641e-03, 6.681763e-02, 6.359901e-02, 5.982700e-02,\n",
       "       5.568135e-02, 5.128734e-02, 4.678317e-02, 4.230904e-02,\n",
       "       3.798668e-02, 3.390616e-02, 3.012428e-02, 2.666907e-02,\n",
       "       2.354639e-02, 2.074700e-02, 1.825227e-02, 1.603841e-02,\n",
       "       1.407948e-02, 1.234955e-02, 1.082379e-02, 9.479177e-03,\n",
       "       8.294814e-03, 7.252042e-03, 6.334299e-03, 5.527003e-03,\n",
       "       4.817349e-03, 4.194053e-03, 3.647175e-03, 3.167939e-03,\n",
       "       2.748562e-03, 2.382102e-03, 2.062375e-03, 1.783855e-03,\n",
       "       1.541602e-03, 1.331198e-03, 1.148705e-03, 9.906198e-04,\n",
       "       8.538335e-04, 7.355960e-04, 6.334809e-04, 5.453548e-04,\n",
       "       4.693482e-04, 4.038291e-04, 3.473749e-04, 2.987487e-04,\n",
       "       2.568774e-04, 2.208316e-04, 1.052547e-03, 2.271675e-04,\n",
       "       4.790328e-05, 9.885984e-06, 2.497997e-06])"
      ]
     },
     "execution_count": 73,
     "metadata": {},
     "output_type": "execute_result"
    }
   ],
   "source": [
    "pfns.mean_values"
   ]
  },
  {
   "cell_type": "markdown",
   "metadata": {},
   "source": [
    "The PFNS is a histogram distribution, and NJOY produces it normalized such that the area of the bin is proportional to the probability to emitting a neutron in that energy range. The \"expected\" plot that we want to look at is normalized such that the height of the bin in proportional to the probability. This is easier to look at because differing bin sizes don't impact the bin heights.\n",
    "\n",
    "To get this, we need to convert the PFNS bins from area to height by dividing out the bin widths."
   ]
  },
  {
   "cell_type": "code",
   "execution_count": 74,
   "metadata": {},
   "outputs": [],
   "source": [
    "bin_widths = np.diff(pfns.group_boundaries)"
   ]
  },
  {
   "cell_type": "code",
   "execution_count": 75,
   "metadata": {},
   "outputs": [
    {
     "data": {
      "text/plain": [
       "Text(0, 0.5, 'PFNS distribution')"
      ]
     },
     "execution_count": 75,
     "metadata": {},
     "output_type": "execute_result"
    },
    {
     "data": {
      "image/png": "[encoded data removed]",
      "text/plain": [
       "<Figure size 640x480 with 1 Axes>"
      ]
     },
     "metadata": {},
     "output_type": "display_data"
    }
   ],
   "source": [
    "plt.step(pfns.group_boundaries[:-1],pfns.mean_values/bin_widths, where='post')\n",
    "plt.yscale(\"log\")\n",
    "plt.xscale(\"log\")\n",
    "plt.xlabel(\"Outgoing Neutron Energy [eV]\")\n",
    "plt.ylabel(\"PFNS distribution\")"
   ]
  },
  {
   "cell_type": "markdown",
   "metadata": {},
   "source": [
    "The uncertainty on the PFNS is on the Section object as both relative uncertainty and absolute uncertainty"
   ]
  },
  {
   "cell_type": "code",
   "execution_count": 76,
   "metadata": {},
   "outputs": [
    {
     "data": {
      "text/plain": [
       "array([0.02484764, 0.08474328, 0.08520924, 0.08556569, 0.08584712,\n",
       "       0.08607528, 0.08626393, 0.08642276, 0.08655836, 0.08667551,\n",
       "       0.08677786, 0.086868  , 0.08694805, 0.08701973, 0.08708405,\n",
       "       0.08714275, 0.08719559, 0.08724447, 0.08728881, 0.08732986,\n",
       "       0.08736803, 0.08740297, 0.08743599, 0.08746638, 0.08749502,\n",
       "       0.08752177, 0.08754707, 0.08757083, 0.08759341, 0.08761443,\n",
       "       0.08763451, 0.08765349, 0.08767167, 0.08768896, 0.08770525,\n",
       "       0.08772085, 0.08773584, 0.08775015, 0.08776384, 0.08777708,\n",
       "       0.08778953, 0.08780163, 0.08781326, 0.0878242 , 0.08783516,\n",
       "       0.08481659, 0.0848648 , 0.08533891, 0.08570166, 0.08598866,\n",
       "       0.08622124, 0.08641368, 0.08657559, 0.08671359, 0.08683275,\n",
       "       0.08693661, 0.08702791, 0.08710881, 0.08718096, 0.08724562,\n",
       "       0.08730409, 0.08735673, 0.08740469, 0.0874486 , 0.08748863,\n",
       "       0.08752554, 0.08755939, 0.08759079, 0.08761968, 0.08764673,\n",
       "       0.08767171, 0.08769484, 0.08771635, 0.08773657, 0.08775545,\n",
       "       0.08777304, 0.08778942, 0.08780499, 0.08781935, 0.08783294,\n",
       "       0.08784554, 0.08785755, 0.08786877, 0.08787933, 0.08788926,\n",
       "       0.08789859, 0.08790716, 0.08791538, 0.08792331, 0.0879306 ,\n",
       "       0.08490624, 0.08491923, 0.08536107, 0.08570327, 0.08597781,\n",
       "       0.08620372, 0.08639185, 0.08655171, 0.08668844, 0.08680638,\n",
       "       0.08690884, 0.08699809, 0.08707602, 0.08714354, 0.08720288,\n",
       "       0.08725425, 0.08729895, 0.08733857, 0.08737307, 0.08740309,\n",
       "       0.08742913, 0.08745164, 0.08747226, 0.08749148, 0.08751083,\n",
       "       0.08752977, 0.08754859, 0.08756732, 0.08758544, 0.08760279,\n",
       "       0.08761896, 0.08763449, 0.08764875, 0.08766186, 0.08767396,\n",
       "       0.08768522, 0.08769647, 0.08770714, 0.08771654, 0.08772514,\n",
       "       0.08773332, 0.08774111, 0.08774856, 0.0877561 , 0.08776281,\n",
       "       0.08476354, 0.08474815, 0.08514556, 0.08546348, 0.08570351,\n",
       "       0.08587329, 0.08601666, 0.08610968, 0.08617844, 0.08622902,\n",
       "       0.08626807, 0.08631268, 0.08633171, 0.08634022, 0.08632061,\n",
       "       0.08629738, 0.0862812 , 0.08625178, 0.08621625, 0.08618005,\n",
       "       0.08616003, 0.08613326, 0.08610812, 0.08606056, 0.08599236,\n",
       "       0.08592736, 0.08585835, 0.08577012, 0.08567643, 0.08558308,\n",
       "       0.08549031, 0.08542493, 0.08536105, 0.0852981 , 0.08523784,\n",
       "       0.08516038, 0.08506829, 0.08497337, 0.08489513, 0.08480646,\n",
       "       0.08470555, 0.08460291, 0.08450399, 0.08439911, 0.08429126,\n",
       "       0.08157416, 0.08047692, 0.07978927, 0.07879883, 0.07766795,\n",
       "       0.07654802, 0.07517495, 0.07389188, 0.07232291, 0.070817  ,\n",
       "       0.06949581, 0.06746088, 0.06627063, 0.0642527 , 0.06194176,\n",
       "       0.06068692, 0.05881124, 0.05676235, 0.05472766, 0.05247971,\n",
       "       0.05038648, 0.0485413 , 0.04635202, 0.04476331, 0.04350584,\n",
       "       0.04221969, 0.04081331, 0.03953705, 0.03853191, 0.0376653 ,\n",
       "       0.03687604, 0.03589639, 0.03516296, 0.03434608, 0.03373191,\n",
       "       0.03304804, 0.03217168, 0.0316447 , 0.03113984, 0.03067446,\n",
       "       0.03009906, 0.02941878, 0.02886236, 0.02823973, 0.02771581,\n",
       "       0.0282537 , 0.02267041, 0.01849866, 0.01562103, 0.01626693,\n",
       "       0.02066318, 0.02651604, 0.03224508, 0.03737044, 0.04172258,\n",
       "       0.04541985, 0.04868048, 0.05171245, 0.05474726, 0.0579642 ,\n",
       "       0.06146742, 0.06532819, 0.06959811, 0.07427554, 0.07936111,\n",
       "       0.08477583, 0.09053043, 0.09655996, 0.10285791, 0.10938565,\n",
       "       0.11614517, 0.12310845, 0.13027778, 0.13764051, 0.14520875,\n",
       "       0.15298121, 0.16096627, 0.16916986, 0.17760068, 0.18626516,\n",
       "       0.19517272, 0.20432227, 0.21372054, 0.2233553 , 0.23324496,\n",
       "       0.24338087, 0.25376919, 0.26439308, 0.2752404 , 0.28630526,\n",
       "       0.53625258, 0.76763771, 1.04076616, 1.35705072, 1.38113323])"
      ]
     },
     "execution_count": 76,
     "metadata": {},
     "output_type": "execute_result"
    }
   ],
   "source": [
    "# relative uncertainty\n",
    "pfns.uncertainty"
   ]
  },
  {
   "cell_type": "code",
   "execution_count": 77,
   "metadata": {},
   "outputs": [
    {
     "data": {
      "text/plain": [
       "array([3.26314584e-10, 3.57479514e-10, 3.86141419e-10, 4.12823927e-10,\n",
       "       4.37886757e-10, 4.61594618e-10, 4.84145418e-10, 5.05694762e-10,\n",
       "       5.26365258e-10, 5.46256366e-10, 5.65450611e-10, 5.84016105e-10,\n",
       "       6.02010980e-10, 6.19485609e-10, 6.36480960e-10, 6.53039059e-10,\n",
       "       6.69184565e-10, 6.84955482e-10, 7.00368472e-10, 7.15452302e-10,\n",
       "       7.30227380e-10, 7.44706646e-10, 7.58914997e-10, 7.72859600e-10,\n",
       "       7.86559605e-10, 8.00025023e-10, 8.13269936e-10, 8.26302629e-10,\n",
       "       8.39135294e-10, 8.51772280e-10, 8.64226805e-10, 8.76504436e-10,\n",
       "       8.88614638e-10, 9.00562070e-10, 9.12352993e-10, 9.23993507e-10,\n",
       "       9.35491313e-10, 9.46849515e-10, 9.58073044e-10, 9.69168699e-10,\n",
       "       9.80136706e-10, 9.90985374e-10, 1.00171655e-09, 1.01233198e-09,\n",
       "       1.02284312e-09, 1.04058252e-08, 1.13203708e-08, 1.22290312e-08,\n",
       "       1.30748771e-08, 1.38694199e-08, 1.46209579e-08, 1.53358011e-08,\n",
       "       1.60188392e-08, 1.66739560e-08, 1.73043349e-08, 1.79125766e-08,\n",
       "       1.85008107e-08, 1.90709311e-08, 1.96244954e-08, 2.01628377e-08,\n",
       "       2.06871942e-08, 2.11984904e-08, 2.16977411e-08, 2.21857614e-08,\n",
       "       2.26631854e-08, 2.31307593e-08, 2.35889800e-08, 2.40384698e-08,\n",
       "       2.44796238e-08, 2.49129690e-08, 2.53388238e-08, 2.57575618e-08,\n",
       "       2.61695238e-08, 2.65751005e-08, 2.69745072e-08, 2.73680103e-08,\n",
       "       2.77558643e-08, 2.81383729e-08, 2.85156099e-08, 2.88879214e-08,\n",
       "       2.92553585e-08, 2.96182384e-08, 2.99766579e-08, 3.03307762e-08,\n",
       "       3.06807432e-08, 3.10266990e-08, 3.13687103e-08, 3.17070334e-08,\n",
       "       3.20417854e-08, 3.23729509e-08, 3.29325989e-07, 3.58104462e-07,\n",
       "       3.86683335e-07, 4.13310547e-07, 4.38343254e-07, 4.62038512e-07,\n",
       "       4.84581884e-07, 5.06129629e-07, 5.26796734e-07, 5.46680170e-07,\n",
       "       5.65860050e-07, 5.84402249e-07, 6.02363027e-07, 6.19785789e-07,\n",
       "       6.36719707e-07, 6.53195212e-07, 6.69247340e-07, 6.84911695e-07,\n",
       "       7.00208553e-07, 7.15161531e-07, 7.29791767e-07, 7.44118254e-07,\n",
       "       7.58168824e-07, 7.71961122e-07, 7.85521483e-07, 7.98856658e-07,\n",
       "       8.11980275e-07, 8.24902427e-07, 8.37627598e-07, 8.50162310e-07,\n",
       "       8.62510313e-07, 8.74683916e-07, 8.86683715e-07, 8.98516550e-07,\n",
       "       9.10189013e-07, 9.21709280e-07, 9.33089512e-07, 9.44330472e-07,\n",
       "       9.55428704e-07, 9.66393289e-07, 9.77230780e-07, 9.87947390e-07,\n",
       "       9.98546973e-07, 1.00903718e-06, 1.01941156e-06, 1.03699371e-05,\n",
       "       1.12669785e-05, 1.21540941e-05, 1.29812014e-05, 1.37553194e-05,\n",
       "       1.44824445e-05, 1.51738197e-05, 1.58285436e-05, 1.64538260e-05,\n",
       "       1.70531168e-05, 1.76296911e-05, 1.81888872e-05, 1.87256930e-05,\n",
       "       1.92444067e-05, 1.97420763e-05, 2.02250340e-05, 2.06967626e-05,\n",
       "       2.11532497e-05, 2.15968520e-05, 2.20295253e-05, 2.24562681e-05,\n",
       "       2.28718165e-05, 2.32788319e-05, 2.36711636e-05, 2.40494490e-05,\n",
       "       2.44205656e-05, 2.47828165e-05, 2.51320510e-05, 2.54724172e-05,\n",
       "       2.58058908e-05, 2.61328146e-05, 2.64617462e-05, 2.67851454e-05,\n",
       "       2.71030621e-05, 2.74162732e-05, 2.77185127e-05, 2.80106401e-05,\n",
       "       2.82965729e-05, 2.85830015e-05, 2.88610468e-05, 2.91301217e-05,\n",
       "       2.93938759e-05, 2.96543423e-05, 2.99082599e-05, 3.01567250e-05,\n",
       "       3.06331188e-04, 3.26353797e-04, 3.45148658e-04, 3.60257122e-04,\n",
       "       3.72586113e-04, 3.83075981e-04, 3.90579042e-04, 3.96981098e-04,\n",
       "       4.00401315e-04, 4.02820572e-04, 4.05087646e-04, 4.02017898e-04,\n",
       "       4.02907917e-04, 3.97794933e-04, 3.89864615e-04, 3.87723074e-04,\n",
       "       3.80830658e-04, 3.71964509e-04, 3.62384906e-04, 3.50701595e-04,\n",
       "       3.39466641e-04, 3.29389771e-04, 3.16473718e-04, 3.07186565e-04,\n",
       "       2.99805260e-04, 2.91943185e-04, 2.83017998e-04, 2.74798798e-04,\n",
       "       2.68296872e-04, 2.62606970e-04, 2.57320829e-04, 2.50588876e-04,\n",
       "       2.45475074e-04, 2.39689834e-04, 2.35241981e-04, 2.30242495e-04,\n",
       "       2.23848202e-04, 2.19838068e-04, 2.15937951e-04, 2.12273410e-04,\n",
       "       2.07817224e-04, 2.02614908e-04, 1.98247224e-04, 1.93409306e-04,\n",
       "       1.89233610e-04, 1.88784532e-03, 1.44181551e-03, 1.10671946e-03,\n",
       "       8.69799899e-04, 8.34287709e-04, 9.66689167e-04, 1.12186806e-03,\n",
       "       1.22488343e-03, 1.26708822e-03, 1.25686280e-03, 1.21130523e-03,\n",
       "       1.14624954e-03, 1.07287830e-03, 9.99261692e-04, 9.29653677e-04,\n",
       "       8.65429342e-04, 8.06773805e-04, 7.53315334e-04, 7.04071000e-04,\n",
       "       6.58285658e-04, 6.14797865e-04, 5.73446786e-04, 5.33687164e-04,\n",
       "       4.95502458e-04, 4.58769205e-04, 4.23601752e-04, 3.90000054e-04,\n",
       "       3.58076556e-04, 3.27873734e-04, 2.99474888e-04, 2.72896293e-04,\n",
       "       2.48145923e-04, 2.25198573e-04, 2.04010784e-04, 1.84517956e-04,\n",
       "       1.66645005e-04, 1.50298644e-04, 1.35387881e-04, 1.21807885e-04,\n",
       "       1.09473101e-04, 9.82842794e-05, 8.81530458e-05, 7.89870885e-05,\n",
       "       7.07030394e-05, 6.32252479e-05, 5.64431045e-04, 1.74382339e-04,\n",
       "       4.98561130e-05, 1.34157818e-05, 3.45006667e-06])"
      ]
     },
     "execution_count": 77,
     "metadata": {},
     "output_type": "execute_result"
    }
   ],
   "source": [
    "# absolute uncertainty\n",
    "pfns.abs_uncertainty"
   ]
  },
  {
   "cell_type": "markdown",
   "metadata": {},
   "source": [
    "the relative uncertainty is what is usually plotted"
   ]
  },
  {
   "cell_type": "code",
   "execution_count": 78,
   "metadata": {},
   "outputs": [
    {
     "data": {
      "text/plain": [
       "(1000.0, 20000000.0)"
      ]
     },
     "execution_count": 78,
     "metadata": {},
     "output_type": "execute_result"
    },
    {
     "data": {
      "image/png": "[encoded data removed]",
      "text/plain": [
       "<Figure size 640x480 with 1 Axes>"
      ]
     },
     "metadata": {},
     "output_type": "display_data"
    }
   ],
   "source": [
    "plt.step(pfns.group_boundaries[:-1],100*pfns.uncertainty,where='post')\n",
    "plt.yscale(\"log\")\n",
    "plt.xscale(\"log\")\n",
    "plt.xlabel(\"Outgoing Neutron Energy [eV]\")\n",
    "plt.ylabel(\"Rel. uncertainty [%]\")\n",
    "plt.xlim(1e3,2e7)"
   ]
  },
  {
   "cell_type": "markdown",
   "metadata": {},
   "source": [
    "the relative covariance and correlation matrices are attributes, along with the absolute covariance matrix"
   ]
  },
  {
   "cell_type": "code",
   "execution_count": null,
   "metadata": {},
   "outputs": [
    {
     "data": {
      "text/plain": [
       "Text(0.5, 1.0, 'Relative Covariance Matrix')"
      ]
     },
     "execution_count": 81,
     "metadata": {},
     "output_type": "execute_result"
    },
    {
     "data": {
      "image/png": "[encoded data removed]",
      "text/plain": [
       "<Figure size 640x480 with 2 Axes>"
      ]
     },
     "metadata": {},
     "output_type": "display_data"
    }
   ],
   "source": [
    "plt.pcolor(pfns.group_boundaries[:-1], pfns.group_boundaries[:-1], pfns.covariance_matrix)\n",
    "plt.colorbar()\n",
    "plt.yscale(\"log\")\n",
    "plt.xscale(\"log\")\n",
    "plt.xlim(1e3,2e7)\n",
    "plt.ylim(1e3,2e7)\n",
    "plt.xlabel(\"Outgoing Neutron Energy [eV]\")\n",
    "plt.ylabel(\"Outgoing Neutron Energy [eV]\")\n",
    "plt.title(\"Relative Covariance Matrix\")"
   ]
  },
  {
   "cell_type": "code",
   "execution_count": 86,
   "metadata": {},
   "outputs": [
    {
     "data": {
      "text/plain": [
       "Text(0.5, 1.0, 'Correlation Matrix')"
      ]
     },
     "execution_count": 86,
     "metadata": {},
     "output_type": "execute_result"
    }
   ],
   "source": [
    "plt.pcolor(pfns.group_boundaries[:-1], pfns.group_boundaries[:-1], pfns.correlation_matrix)\n",
    "plt.colorbar()\n",
    "plt.yscale(\"log\")\n",
    "plt.xscale(\"log\")\n",
    "plt.xlim(1e3,2e7)\n",
    "plt.ylim(1e3,2e7)\n",
    "plt.xlabel(\"Outgoing Neutron Energy [eV]\")\n",
    "plt.ylabel(\"Outgoing Neutron Energy [eV]\")\n",
    "plt.title(\"Correlation Matrix\")"
   ]
  },
  {
   "cell_type": "code",
   "execution_count": 85,
   "metadata": {},
   "outputs": [
    {
     "data": {
      "text/plain": [
       "Text(0.5, 1.0, 'Absolute Covariance Matrix')"
      ]
     },
     "execution_count": 85,
     "metadata": {},
     "output_type": "execute_result"
    },
    {
     "data": {
      "image/png": "[encoded data removed]",
      "text/plain": [
       "<Figure size 640x480 with 2 Axes>"
      ]
     },
     "metadata": {},
     "output_type": "display_data"
    }
   ],
   "source": [
    "plt.pcolor(pfns.group_boundaries[:-1], pfns.group_boundaries[:-1], pfns.abs_covariance_matrix)\n",
    "plt.colorbar()\n",
    "plt.yscale(\"log\")\n",
    "plt.xscale(\"log\")\n",
    "plt.xlim(1e3,2e7)\n",
    "plt.ylim(1e3,2e7)\n",
    "plt.xlabel(\"Outgoing Neutron Energy [eV]\")\n",
    "plt.ylabel(\"Outgoing Neutron Energy [eV]\")\n",
    "plt.title(\"Absolute Covariance Matrix\")"
   ]
  },
  {
   "cell_type": "code",
   "execution_count": null,
   "metadata": {},
   "outputs": [],
   "source": []
  }
 ],
 "metadata": {
  "kernelspec": {
   "display_name": "pyerr-testing",
   "language": "python",
   "name": "python3"
  },
  "language_info": {
   "codemirror_mode": {
    "name": "ipython",
    "version": 3
   },
   "file_extension": ".py",
   "mimetype": "text/x-python",
   "name": "python",
   "nbconvert_exporter": "python",
   "pygments_lexer": "ipython3",
   "version": "3.10.12"
  },
  "orig_nbformat": 4
 },
 "nbformat": 4,
 "nbformat_minor": 2
}
