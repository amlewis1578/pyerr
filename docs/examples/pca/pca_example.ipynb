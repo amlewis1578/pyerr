{
 "cells": [
  {
   "cell_type": "code",
   "execution_count": 1,
   "metadata": {},
   "outputs": [],
   "source": [
    "from pyerr import ErrorrOutput\n",
    "import matplotlib.pyplot as plt\n",
    "import numpy as np"
   ]
  },
  {
   "cell_type": "code",
   "execution_count": 2,
   "metadata": {},
   "outputs": [],
   "source": [
    "# path to tape28 file for U235 ENDF-7.1\n",
    "fle = \"../pfns/tape28\""
   ]
  },
  {
   "cell_type": "markdown",
   "metadata": {},
   "source": [
    "create `ErrorrOutput` object with energy limits (outgoing energy) of 1e3 eV to 5 MeV"
   ]
  },
  {
   "cell_type": "code",
   "execution_count": 30,
   "metadata": {},
   "outputs": [],
   "source": [
    "output = ErrorrOutput(fle, lower_limit=1e3, upper_limit=5e6)"
   ]
  },
  {
   "cell_type": "markdown",
   "metadata": {},
   "source": [
    "for PFNS, need to look at MT (section) 18, which is fission"
   ]
  },
  {
   "cell_type": "code",
   "execution_count": 31,
   "metadata": {},
   "outputs": [],
   "source": [
    "pfns = output.sections[18]"
   ]
  },
  {
   "cell_type": "markdown",
   "metadata": {},
   "source": [
    "`pfns` is a Section object"
   ]
  },
  {
   "cell_type": "code",
   "execution_count": 32,
   "metadata": {},
   "outputs": [
    {
     "data": {
      "text/plain": [
       "<pyerr._section.Section at 0x7f964d02b730>"
      ]
     },
     "execution_count": 32,
     "metadata": {},
     "output_type": "execute_result"
    }
   ],
   "source": [
    "pfns"
   ]
  },
  {
   "cell_type": "markdown",
   "metadata": {},
   "source": [
    "the doc string lists the attributes and methods"
   ]
  },
  {
   "cell_type": "code",
   "execution_count": 33,
   "metadata": {},
   "outputs": [
    {
     "name": "stdout",
     "output_type": "stream",
     "text": [
      "Help on Section in module pyerr._section object:\n",
      "\n",
      "class Section(builtins.object)\n",
      " |  Section(energy_lines, mean_lines, covariance_lines, lower_limit=None, upper_limit=None)\n",
      " |  \n",
      " |  Class to hold a single section (MT value) from an ERRORR file, which includes\n",
      " |  the energy grid, the mean value, and the covariance matrix\n",
      " |  \n",
      " |  Parameters\n",
      " |  ----------\n",
      " |  energy_lines : list\n",
      " |      list of the lines from the file corresponding to the energy grid\n",
      " |  \n",
      " |  mean_lines : list\n",
      " |      list of the lines from the file corresponding to the mean values\n",
      " |  \n",
      " |  covariance_lines : list\n",
      " |      list of the lines from the file corresponding to the covariance\n",
      " |  \n",
      " |  lower_limit : float, optional, default is None\n",
      " |      the lower limit in energy (eV) to cut the values at. If not given, uses the lower \n",
      " |      limit of the matrix in the file. If given, will cut out groups below the lower \n",
      " |      limit. If the lower limit falls within a group, that group is kept\n",
      " |  \n",
      " |  \n",
      " |  upper_limit : float, optional, default is None\n",
      " |      the upper limit in energy (eV) to cut the values at. If not given, uses the upper \n",
      " |      limit of the matrix in the file. If given, will cut out groups below the upper \n",
      " |      limit. If the upper limit falls within a group, that group is kept\n",
      " |  \n",
      " |  Attributes\n",
      " |  ----------\n",
      " |  MAT : int\n",
      " |      Material number\n",
      " |  \n",
      " |  MF : int\n",
      " |      File number\n",
      " |  \n",
      " |  MT : int\n",
      " |      Section/reaction number\n",
      " |  \n",
      " |  incident_energy : float\n",
      " |      Incident energy in eV\n",
      " |  \n",
      " |  num_groups : int\n",
      " |      Number of energy groups\n",
      " |      \n",
      " |  group_boundaries : int\n",
      " |      Boundaries of the energy groups\n",
      " |  \n",
      " |  mean_values : list\n",
      " |      Mean values of the quantity\n",
      " |  \n",
      " |  covariance_matrix : np.array\n",
      " |      Relative covariance matrix\n",
      " |  \n",
      " |  abs_covariance_matrix : np.array\n",
      " |      Absolute covariance matrix\n",
      " |  \n",
      " |  uncertainty : np.array\n",
      " |      The uncertainty values\n",
      " |  \n",
      " |  abs_uncertainty : np.array\n",
      " |      The absolute uncertainty values\n",
      " |  \n",
      " |  correlation_matrix : np.array\n",
      " |      Correlation matrix\n",
      " |  \n",
      " |  eig_values : np.array\n",
      " |      Sorted (largest to smallest) eigen values of the\n",
      " |      absolute covariance matrix\n",
      " |  \n",
      " |  eig_vectors : np.array\n",
      " |      Sorted (largest to smallest) eigen vectors of the\n",
      " |      absolute covariance matrix\n",
      " |  \n",
      " |  unc_convergence_table : pandas DataFrame\n",
      " |      pandas DataFrame with the absolute and relative difference\n",
      " |      between the overall uncertainty and the uncertainty of\n",
      " |      the covariance matrix reconstructed with k eigenvalues\n",
      " |  \n",
      " |  Methods\n",
      " |  -------\n",
      " |  get_correlation_matrix\n",
      " |      Function to get the uncertainty vector and correlation matrix\n",
      " |  \n",
      " |  get_eigenvalues\n",
      " |      Function to get sorted eigenvalues and eigenvectors\n",
      " |      of the absolute covariance matrix\n",
      " |  \n",
      " |  reconstruct_covariance \n",
      " |      Function to reconstruct the covariance matrix from the \n",
      " |      largest k eigenvalues\n",
      " |  \n",
      " |  get_pca_realizations\n",
      " |      Function to sample realizations by PCA, using the largest\n",
      " |      k components.\n",
      " |  \n",
      " |  quantify_uncertainty_convergence\n",
      " |      Function to quantify the convergence of the uncertainty vector\n",
      " |      as more PCA eigenvalues are added, optionally between certain\n",
      " |      energies.\n",
      " |  \n",
      " |  Methods defined here:\n",
      " |  \n",
      " |  __init__(self, energy_lines, mean_lines, covariance_lines, lower_limit=None, upper_limit=None)\n",
      " |      Initialize self.  See help(type(self)) for accurate signature.\n",
      " |  \n",
      " |  get_correlation_matrix(self)\n",
      " |      Function to get the uncertainty vector and correlation matrix\n",
      " |  \n",
      " |  get_eigenvalues(self)\n",
      " |      Function to get and sort eigenvalues and eigenvectors\n",
      " |      of the absolute covariance matrix\n",
      " |  \n",
      " |  get_pca_realizations(self, num_samples, k=None)\n",
      " |      Function to sample realizations by PCA, using the largest\n",
      " |      k components.\n",
      " |      \n",
      " |      Parameters\n",
      " |      ----------\n",
      " |      num_samples : int\n",
      " |          The number of samples\n",
      " |      \n",
      " |      k : int, optional, default is None\n",
      " |          the number of eigenvalues to use. If None, will use\n",
      " |          all of the eigenvalues of the covariane matrix\n",
      " |      \n",
      " |      Returns\n",
      " |      -------\n",
      " |      numpy array\n",
      " |          the sampled realizations\n",
      " |  \n",
      " |  quantify_uncertainty_convergence(self, e_min=0, e_max=30000000.0)\n",
      " |      Function to quantify the convergence of the uncertainty vector\n",
      " |      as more PCA eigenvalues are added, optionally between certain\n",
      " |      energies.\n",
      " |      \n",
      " |      Parameters\n",
      " |      ----------\n",
      " |      e_min : float, optional, default is 0 eV\n",
      " |          minimum energy to check for convergence at\n",
      " |      \n",
      " |      e_max : float, optional, default is 30 MeV\n",
      " |          maximum energy to check for convergence at\n",
      " |      \n",
      " |      Returns\n",
      " |      -------\n",
      " |      None, creates the attribute unc_convergence_table\n",
      " |  \n",
      " |  reconstruct_covariance(self, k=None)\n",
      " |      Function to reconstruct the covariance matrix from the \n",
      " |      largest k eigenvalues\n",
      " |      \n",
      " |      Parameters\n",
      " |      ----------\n",
      " |      k : int, optional, default is None\n",
      " |          the number of eigenvalues to use. If None, will use\n",
      " |          all of the eigenvalues of the covariane matrix\n",
      " |      \n",
      " |      Returns\n",
      " |      -------\n",
      " |      numpy array \n",
      " |          The covariance matrix reconstructed from the top k\n",
      " |          eigenvalues\n",
      " |  \n",
      " |  ----------------------------------------------------------------------\n",
      " |  Readonly properties defined here:\n",
      " |  \n",
      " |  MAT\n",
      " |  \n",
      " |  MF\n",
      " |  \n",
      " |  MT\n",
      " |  \n",
      " |  covariance_matrix\n",
      " |  \n",
      " |  group_boundaries\n",
      " |  \n",
      " |  incident_energy\n",
      " |  \n",
      " |  mean_values\n",
      " |  \n",
      " |  num_groups\n",
      " |  \n",
      " |  ----------------------------------------------------------------------\n",
      " |  Data descriptors defined here:\n",
      " |  \n",
      " |  __dict__\n",
      " |      dictionary for instance variables (if defined)\n",
      " |  \n",
      " |  __weakref__\n",
      " |      list of weak references to the object (if defined)\n",
      "\n"
     ]
    }
   ],
   "source": [
    "help(pfns)"
   ]
  },
  {
   "cell_type": "markdown",
   "metadata": {},
   "source": [
    "the eigenvalues and eigenvectors of the relative covariance matrix are calculated and sorted upon initialization of the object"
   ]
  },
  {
   "cell_type": "code",
   "execution_count": 34,
   "metadata": {},
   "outputs": [
    {
     "data": {
      "text/plain": [
       "array([ 2.21655097e-05,  6.23413690e-06,  2.04333268e-10,  9.37372336e-12,\n",
       "        8.76313750e-12,  7.41865494e-12,  5.75164467e-12,  5.35692750e-12,\n",
       "        5.09223161e-12,  3.77486968e-12,  3.26204276e-12,  2.54682359e-12,\n",
       "        1.92930343e-12,  1.37669903e-12,  1.26805885e-12,  1.20646649e-12,\n",
       "        1.09219574e-12,  1.00264886e-12,  9.72149817e-13,  9.08858000e-13,\n",
       "        8.96691583e-13,  8.22237014e-13,  6.60048741e-13,  6.13198656e-13,\n",
       "        5.19731877e-13,  4.40012960e-13,  3.37921652e-13,  3.25399382e-13,\n",
       "        3.08248058e-13,  2.35895698e-13,  1.48955768e-13,  1.30000027e-13,\n",
       "        1.13250917e-13,  7.79861458e-14,  3.91847534e-14,  3.05607446e-14,\n",
       "        2.23184504e-14,  2.00701859e-14,  1.81189135e-14,  1.44578437e-14,\n",
       "        1.25932313e-14,  1.22923368e-14,  9.54604957e-15,  8.98172630e-15,\n",
       "        7.77884613e-15,  6.79289432e-15,  6.11938473e-15,  5.73287045e-15,\n",
       "        4.36891501e-15,  4.00505511e-15,  3.01175631e-15,  2.75902844e-15,\n",
       "        2.27736179e-15,  2.02277590e-15,  1.07735990e-15,  5.62670886e-16,\n",
       "        3.82026101e-16,  1.65585925e-16,  1.12638914e-16,  4.41015020e-17,\n",
       "        3.58044243e-17,  2.69453079e-17,  2.43035524e-17,  2.08061948e-17,\n",
       "        1.88739291e-17,  1.79783420e-17,  1.66228381e-17,  1.25220427e-17,\n",
       "        9.88982943e-18,  8.80958343e-18,  7.98300145e-18,  7.24846741e-18,\n",
       "        5.90279199e-18,  4.31796298e-18,  3.08664363e-18,  2.20195589e-18,\n",
       "        1.98973589e-18,  1.18697116e-18,  1.31890796e-19, -1.40927967e-19,\n",
       "       -7.67891368e-19, -1.01722348e-18, -1.94327366e-18, -2.67952640e-18,\n",
       "       -3.77253819e-18, -5.16502687e-18, -5.79893758e-18, -7.30705827e-18,\n",
       "       -8.54572495e-18, -1.04654495e-17, -1.14677723e-17, -1.28035056e-17,\n",
       "       -1.40227182e-17, -1.65067924e-17, -1.77886452e-17, -2.38649033e-17,\n",
       "       -3.36234678e-17, -3.40254598e-17, -5.53202142e-17, -6.25557853e-17,\n",
       "       -1.33322773e-16, -2.03073846e-16, -3.99425573e-16, -5.77351460e-16,\n",
       "       -1.42011278e-15, -1.89872205e-15, -2.18045927e-15, -2.74816290e-15,\n",
       "       -3.55042390e-15, -4.17197959e-15, -5.85657722e-15, -6.37957918e-15,\n",
       "       -7.02385929e-15, -8.33667789e-15, -9.35001542e-15, -9.76756810e-15,\n",
       "       -1.16392132e-14, -1.22809311e-14, -1.33487886e-14, -1.78099624e-14,\n",
       "       -1.92882742e-14, -2.56254087e-14, -5.23224251e-14, -7.42957188e-14,\n",
       "       -1.01468841e-13, -1.57823693e-13, -2.14643493e-13, -2.38031145e-13,\n",
       "       -3.32841553e-13, -4.19766954e-13, -4.55031892e-13, -5.56636764e-13,\n",
       "       -5.62463327e-13, -6.61365416e-13, -7.10622395e-13, -7.78153101e-13,\n",
       "       -7.91210471e-13, -8.59604523e-13, -8.89949451e-13, -9.84960421e-13,\n",
       "       -1.11496486e-12, -1.21727879e-12, -1.28040868e-12, -1.70451635e-12,\n",
       "       -2.20714532e-12, -2.25385254e-12, -2.88286490e-12, -3.54303704e-12,\n",
       "       -4.31136000e-12, -4.64703298e-12, -6.02265442e-12, -7.36184058e-12,\n",
       "       -8.66639450e-12, -9.03004051e-12, -1.05153072e-11])"
      ]
     },
     "execution_count": 34,
     "metadata": {},
     "output_type": "execute_result"
    }
   ],
   "source": [
    "# eigenvalues\n",
    "pfns.eig_vals"
   ]
  },
  {
   "cell_type": "code",
   "execution_count": 35,
   "metadata": {},
   "outputs": [
    {
     "data": {
      "text/plain": [
       "array([[ 6.54597286e-05, -4.64726967e-05,  2.55996314e-04, ...,\n",
       "        -3.40649916e-05,  8.09455407e-05, -3.26371041e-05],\n",
       "       [ 7.11303235e-05, -5.07808030e-05,  2.75118018e-04, ...,\n",
       "         4.70063106e-06, -2.14997022e-04,  1.33267268e-05],\n",
       "       [ 7.68098647e-05, -5.48191405e-05,  2.99156944e-04, ...,\n",
       "        -1.46214926e-04,  6.00039784e-05, -1.27752709e-04],\n",
       "       ...,\n",
       "       [-1.49076732e-01, -1.09597162e-01, -5.58449715e-02, ...,\n",
       "         1.98020737e-01,  1.66064144e-02,  1.29777343e-01],\n",
       "       [-1.35292637e-01, -1.20149558e-01, -9.61842702e-02, ...,\n",
       "         1.19661239e-01, -8.50706994e-02,  3.55849583e-02],\n",
       "       [-1.22697828e-01, -1.26424725e-01, -1.32518003e-01, ...,\n",
       "        -1.42731106e-01, -1.97039253e-01, -2.57695956e-01]])"
      ]
     },
     "execution_count": 35,
     "metadata": {},
     "output_type": "execute_result"
    }
   ],
   "source": [
    "# eigenvectors\n",
    "pfns.eig_vects"
   ]
  },
  {
   "cell_type": "markdown",
   "metadata": {},
   "source": [
    "The eigenvectors can be plotted relative to the largest one"
   ]
  },
  {
   "cell_type": "code",
   "execution_count": 36,
   "metadata": {},
   "outputs": [
    {
     "data": {
      "text/plain": [
       "Text(0, 0.5, 'Eigenvalue (relative to max)')"
      ]
     },
     "execution_count": 36,
     "metadata": {},
     "output_type": "execute_result"
    },
    {
     "data": {
      "image/png": "[encoded data removed]",
      "text/plain": [
       "<Figure size 640x480 with 1 Axes>"
      ]
     },
     "metadata": {},
     "output_type": "display_data"
    }
   ],
   "source": [
    "indices = list(range(1,len(pfns.eig_vals)+1))\n",
    "plt.semilogy(indices, pfns.eig_vals/pfns.eig_vals[0])\n",
    "plt.scatter(indices,pfns.eig_vals/pfns.eig_vals[0])\n",
    "plt.xlabel(\"Eigenvalue index\")\n",
    "plt.ylabel(\"Eigenvalue (relative to max)\")"
   ]
  },
  {
   "cell_type": "markdown",
   "metadata": {},
   "source": [
    "In this case, the ENDF-7.1 PFNS for U235, the eigenvalues fall off very quickly because there are very strong correlations between outgoing energies"
   ]
  },
  {
   "cell_type": "markdown",
   "metadata": {},
   "source": [
    "## Reconstruct Covariance \n",
    "\n",
    "The covariance matrix can be reconstructed with any number of components using the `reconstruct_covariance` method. This can be used to make plots showing the contribution of the components to the uncertainty"
   ]
  },
  {
   "cell_type": "code",
   "execution_count": 37,
   "metadata": {},
   "outputs": [
    {
     "name": "stdout",
     "output_type": "stream",
     "text": [
      "Help on method reconstruct_covariance in module pyerr._section:\n",
      "\n",
      "reconstruct_covariance(k=None) method of pyerr._section.Section instance\n",
      "    Function to reconstruct the covariance matrix from the \n",
      "    largest k eigenvalues\n",
      "    \n",
      "    Parameters\n",
      "    ----------\n",
      "    k : int, optional, default is None\n",
      "        the number of eigenvalues to use. If None, will use\n",
      "        all of the eigenvalues of the covariane matrix\n",
      "    \n",
      "    Returns\n",
      "    -------\n",
      "    numpy array \n",
      "        The covariance matrix reconstructed from the top k\n",
      "        eigenvalues\n",
      "\n"
     ]
    }
   ],
   "source": [
    "help(pfns.reconstruct_covariance)"
   ]
  },
  {
   "cell_type": "code",
   "execution_count": 39,
   "metadata": {},
   "outputs": [
    {
     "data": {
      "text/plain": [
       "Text(0.5, 0, 'Relative Uncertainty')"
      ]
     },
     "execution_count": 39,
     "metadata": {},
     "output_type": "execute_result"
    },
    {
     "data": {
      "image/png": "[encoded data removed]",
      "text/plain": [
       "<Figure size 640x480 with 1 Axes>"
      ]
     },
     "metadata": {},
     "output_type": "display_data"
    }
   ],
   "source": [
    "# k is number of components\n",
    "for k in range(1,4):\n",
    "    \n",
    "    # reconstruct cov matrix\n",
    "    cov = pfns.reconstruct_covariance(k)\n",
    "\n",
    "    # get uncertainty from cov\n",
    "    unc = np.sqrt(np.diag(cov))\n",
    "\n",
    "    #plot\n",
    "    plt.step(pfns.group_boundaries[:-1],unc/pfns.mean_values,label=f\"k = {k}\", where='post')\n",
    "\n",
    "plt.legend()\n",
    "plt.yscale(\"log\")\n",
    "plt.xscale(\"log\")\n",
    "plt.xlim(1e3,5e6)\n",
    "plt.xlabel(\"Outgoing neutron energy [eV]\")\n",
    "plt.xlabel(\"Relative Uncertainty\")"
   ]
  },
  {
   "cell_type": "markdown",
   "metadata": {},
   "source": [
    "## PCA realizations\n",
    "\n",
    "the method `get_pca_realizations` can produce realizations of the PFNS based on the covariance reconstruct with any number of components"
   ]
  },
  {
   "cell_type": "code",
   "execution_count": 40,
   "metadata": {},
   "outputs": [],
   "source": [
    "pfns_samples = pfns.get_pca_realizations(k=1,num_samples=10)"
   ]
  },
  {
   "cell_type": "code",
   "execution_count": 42,
   "metadata": {},
   "outputs": [
    {
     "name": "stderr",
     "output_type": "stream",
     "text": [
      "No artists with labels found to put in legend.  Note that artists whose label start with an underscore are ignored when legend() is called with no argument.\n"
     ]
    },
    {
     "data": {
      "text/plain": [
       "Text(0.5, 1.0, 'ENDF7.1 Samples with k=1 components')"
      ]
     },
     "execution_count": 42,
     "metadata": {},
     "output_type": "execute_result"
    },
    {
     "data": {
      "image/png": "[encoded data removed]",
      "text/plain": [
       "<Figure size 640x480 with 1 Axes>"
      ]
     },
     "metadata": {},
     "output_type": "display_data"
    }
   ],
   "source": [
    "for sample in pfns_samples:\n",
    "    plt.step(pfns.group_boundaries[:-1],sample/pfns.mean_values)\n",
    "\n",
    "plt.ylabel(\"Ratio to mean values\")\n",
    "plt.xscale(\"log\")\n",
    "plt.xlim(1e3,5e6)\n",
    "plt.legend()\n",
    "plt.title(\"ENDF7.1 Samples with k=1 components\")"
   ]
  },
  {
   "cell_type": "markdown",
   "metadata": {},
   "source": [
    "## Uncertainty convergence\n",
    "\n",
    "The purpose of using PCA is to reduce the sampling work by using fewer components. One way to determine how many components are needed is to look at how many components are needed to converge the uncertainty vector.\n",
    "\n",
    "The way I've been doing it so far is to converge each bin, looking at the maximum difference between the full uncertainty vector and the reconstructed uncertainty vector. \n",
    "\n",
    "The method `quantify_uncertainty_convergence` will produce a pandas table that has the maximum difference for each value of $k$"
   ]
  },
  {
   "cell_type": "code",
   "execution_count": 43,
   "metadata": {},
   "outputs": [
    {
     "name": "stdout",
     "output_type": "stream",
     "text": [
      "Help on method quantify_uncertainty_convergence in module pyerr._section:\n",
      "\n",
      "quantify_uncertainty_convergence(e_min=0, e_max=30000000.0) method of pyerr._section.Section instance\n",
      "    Function to quantify the convergence of the uncertainty vector\n",
      "    as more PCA eigenvalues are added, optionally between certain\n",
      "    energies.\n",
      "    \n",
      "    Parameters\n",
      "    ----------\n",
      "    e_min : float, optional, default is 0 eV\n",
      "        minimum energy to check for convergence at\n",
      "    \n",
      "    e_max : float, optional, default is 30 MeV\n",
      "        maximum energy to check for convergence at\n",
      "    \n",
      "    Returns\n",
      "    -------\n",
      "    None, creates the attribute unc_convergence_table\n",
      "\n"
     ]
    }
   ],
   "source": [
    "help(pfns.quantify_uncertainty_convergence)"
   ]
  },
  {
   "cell_type": "markdown",
   "metadata": {},
   "source": [
    "the method `quantify_uncertainty_convergence` has two optional arguments, `e_min` and `e_max`, energies in eV, between which to check the convergence. \n",
    "In this case, I already cut the distributions between 1e3 eV and 5 MeV when I created the object in the first place. \n",
    "\n",
    "The reason for cutting the energy bounds is that the very low energy and very high energy ends of the PFNS spectrum are low intensity and high uncertainty, so it's not necessarily a good idea to include them in the convergence study. The senstivity of the application should be used to determine specific bounds"
   ]
  },
  {
   "cell_type": "code",
   "execution_count": 44,
   "metadata": {},
   "outputs": [],
   "source": [
    "pfns.quantify_uncertainty_convergence()"
   ]
  },
  {
   "cell_type": "markdown",
   "metadata": {},
   "source": [
    "this method doesn't return anything, but it creates an attribute `unc_convergence_table`"
   ]
  },
  {
   "cell_type": "code",
   "execution_count": 45,
   "metadata": {},
   "outputs": [
    {
     "data": {
      "text/html": [
       "<div>\n",
       "<style scoped>\n",
       "    .dataframe tbody tr th:only-of-type {\n",
       "        vertical-align: middle;\n",
       "    }\n",
       "\n",
       "    .dataframe tbody tr th {\n",
       "        vertical-align: top;\n",
       "    }\n",
       "\n",
       "    .dataframe thead th {\n",
       "        text-align: right;\n",
       "    }\n",
       "</style>\n",
       "<table border=\"1\" class=\"dataframe\">\n",
       "  <thead>\n",
       "    <tr style=\"text-align: right;\">\n",
       "      <th></th>\n",
       "      <th>k</th>\n",
       "      <th>abs_diff</th>\n",
       "      <th>abs_ind</th>\n",
       "      <th>rel_diff</th>\n",
       "      <th>rel_ind</th>\n",
       "    </tr>\n",
       "  </thead>\n",
       "  <tbody>\n",
       "    <tr>\n",
       "      <th>0</th>\n",
       "      <td>1</td>\n",
       "      <td>1.418138e-02</td>\n",
       "      <td>139</td>\n",
       "      <td>8.717919e-01</td>\n",
       "      <td>139</td>\n",
       "    </tr>\n",
       "    <tr>\n",
       "      <th>1</th>\n",
       "      <td>2</td>\n",
       "      <td>5.576587e-06</td>\n",
       "      <td>14</td>\n",
       "      <td>6.394957e-05</td>\n",
       "      <td>14</td>\n",
       "    </tr>\n",
       "    <tr>\n",
       "      <th>2</th>\n",
       "      <td>3</td>\n",
       "      <td>2.855547e-07</td>\n",
       "      <td>14</td>\n",
       "      <td>3.274602e-06</td>\n",
       "      <td>14</td>\n",
       "    </tr>\n",
       "    <tr>\n",
       "      <th>3</th>\n",
       "      <td>4</td>\n",
       "      <td>2.560606e-07</td>\n",
       "      <td>14</td>\n",
       "      <td>2.936378e-06</td>\n",
       "      <td>14</td>\n",
       "    </tr>\n",
       "    <tr>\n",
       "      <th>4</th>\n",
       "      <td>5</td>\n",
       "      <td>2.435304e-07</td>\n",
       "      <td>14</td>\n",
       "      <td>2.792688e-06</td>\n",
       "      <td>14</td>\n",
       "    </tr>\n",
       "    <tr>\n",
       "      <th>...</th>\n",
       "      <td>...</td>\n",
       "      <td>...</td>\n",
       "      <td>...</td>\n",
       "      <td>...</td>\n",
       "      <td>...</td>\n",
       "    </tr>\n",
       "    <tr>\n",
       "      <th>150</th>\n",
       "      <td>151</td>\n",
       "      <td>-5.032826e-10</td>\n",
       "      <td>130</td>\n",
       "      <td>-1.672087e-08</td>\n",
       "      <td>130</td>\n",
       "    </tr>\n",
       "    <tr>\n",
       "      <th>151</th>\n",
       "      <td>152</td>\n",
       "      <td>-4.174953e-10</td>\n",
       "      <td>130</td>\n",
       "      <td>-1.387071e-08</td>\n",
       "      <td>130</td>\n",
       "    </tr>\n",
       "    <tr>\n",
       "      <th>152</th>\n",
       "      <td>153</td>\n",
       "      <td>-2.584385e-11</td>\n",
       "      <td>140</td>\n",
       "      <td>-1.120157e-09</td>\n",
       "      <td>9</td>\n",
       "    </tr>\n",
       "    <tr>\n",
       "      <th>153</th>\n",
       "      <td>154</td>\n",
       "      <td>2.385997e-11</td>\n",
       "      <td>12</td>\n",
       "      <td>2.740131e-10</td>\n",
       "      <td>12</td>\n",
       "    </tr>\n",
       "    <tr>\n",
       "      <th>154</th>\n",
       "      <td>155</td>\n",
       "      <td>3.216949e-10</td>\n",
       "      <td>1</td>\n",
       "      <td>3.788245e-09</td>\n",
       "      <td>1</td>\n",
       "    </tr>\n",
       "  </tbody>\n",
       "</table>\n",
       "<p>155 rows × 5 columns</p>\n",
       "</div>"
      ],
      "text/plain": [
       "       k      abs_diff  abs_ind      rel_diff  rel_ind\n",
       "0      1  1.418138e-02      139  8.717919e-01      139\n",
       "1      2  5.576587e-06       14  6.394957e-05       14\n",
       "2      3  2.855547e-07       14  3.274602e-06       14\n",
       "3      4  2.560606e-07       14  2.936378e-06       14\n",
       "4      5  2.435304e-07       14  2.792688e-06       14\n",
       "..   ...           ...      ...           ...      ...\n",
       "150  151 -5.032826e-10      130 -1.672087e-08      130\n",
       "151  152 -4.174953e-10      130 -1.387071e-08      130\n",
       "152  153 -2.584385e-11      140 -1.120157e-09        9\n",
       "153  154  2.385997e-11       12  2.740131e-10       12\n",
       "154  155  3.216949e-10        1  3.788245e-09        1\n",
       "\n",
       "[155 rows x 5 columns]"
      ]
     },
     "execution_count": 45,
     "metadata": {},
     "output_type": "execute_result"
    }
   ],
   "source": [
    "pfns.unc_convergence_table"
   ]
  },
  {
   "cell_type": "markdown",
   "metadata": {},
   "source": [
    "`abs_diff` gives the maximum absolute difference between the full and reconstructed uncertainty vector, which occurs at bin index `abs_ind`.\n",
    "\n",
    "the largest relative difference is given in `rel_diff`, at index `rel+ind`"
   ]
  }
 ],
 "metadata": {
  "kernelspec": {
   "display_name": "pyerr-testing",
   "language": "python",
   "name": "python3"
  },
  "language_info": {
   "codemirror_mode": {
    "name": "ipython",
    "version": 3
   },
   "file_extension": ".py",
   "mimetype": "text/x-python",
   "name": "python",
   "nbconvert_exporter": "python",
   "pygments_lexer": "ipython3",
   "version": "3.10.12"
  },
  "orig_nbformat": 4
 },
 "nbformat": 4,
 "nbformat_minor": 2
}
