{
 "cells": [
  {
   "cell_type": "code",
   "execution_count": 1,
   "metadata": {},
   "outputs": [],
   "source": [
    "from pyerr import ErrorrOutput\n",
    "import matplotlib.pyplot as plt\n",
    "import numpy as np"
   ]
  },
  {
   "cell_type": "code",
   "execution_count": 2,
   "metadata": {},
   "outputs": [],
   "source": [
    "# path to tape28 file for U235 ENDF-7.1\n",
    "fle = \"../pfns/tape28\""
   ]
  },
  {
   "cell_type": "markdown",
   "metadata": {},
   "source": [
    "create `ErrorrOutput` object without energy limits"
   ]
  },
  {
   "cell_type": "code",
   "execution_count": 3,
   "metadata": {},
   "outputs": [],
   "source": [
    "output = ErrorrOutput(fle)"
   ]
  },
  {
   "cell_type": "markdown",
   "metadata": {},
   "source": [
    "for PFNS, need to look at MT (section) 18, which is fission"
   ]
  },
  {
   "cell_type": "code",
   "execution_count": 4,
   "metadata": {},
   "outputs": [],
   "source": [
    "pfns = output.sections[18]"
   ]
  },
  {
   "cell_type": "markdown",
   "metadata": {},
   "source": [
    "`pfns` is a Section object"
   ]
  },
  {
   "cell_type": "code",
   "execution_count": 69,
   "metadata": {},
   "outputs": [
    {
     "data": {
      "text/plain": [
       "<pyerr._section.Section at 0x7f44bcb1e440>"
      ]
     },
     "execution_count": 69,
     "metadata": {},
     "output_type": "execute_result"
    }
   ],
   "source": [
    "pfns"
   ]
  },
  {
   "cell_type": "markdown",
   "metadata": {},
   "source": [
    "the doc string lists the attributes and methods"
   ]
  },
  {
   "cell_type": "code",
   "execution_count": 70,
   "metadata": {},
   "outputs": [
    {
     "name": "stdout",
     "output_type": "stream",
     "text": [
      "Help on Section in module pyerr._section object:\n",
      "\n",
      "class Section(builtins.object)\n",
      " |  Section(energy_lines, mean_lines, covariance_lines, lower_limit=None, upper_limit=None)\n",
      " |  \n",
      " |  Class to hold a single section (MT value) from an ERRORR file, which includes\n",
      " |  the energy grid, the mean value, and the covariance matrix\n",
      " |  \n",
      " |  Parameters\n",
      " |  ----------\n",
      " |  energy_lines : list\n",
      " |      list of the lines from the file corresponding to the energy grid\n",
      " |  \n",
      " |  mean_lines : list\n",
      " |      list of the lines from the file corresponding to the mean values\n",
      " |  \n",
      " |  covariance_lines : list\n",
      " |      list of the lines from the file corresponding to the covariance\n",
      " |  \n",
      " |  lower_limit : float, optional, default is None\n",
      " |      the lower limit in energy (eV) to cut the values at. If not given, uses the lower \n",
      " |      limit of the matrix in the file. If given, will cut out groups below the lower \n",
      " |      limit. If the lower limit falls within a group, that group is kept\n",
      " |  \n",
      " |  \n",
      " |  upper_limit : float, optional, default is None\n",
      " |      the upper limit in energy (eV) to cut the values at. If not given, uses the upper \n",
      " |      limit of the matrix in the file. If given, will cut out groups below the upper \n",
      " |      limit. If the upper limit falls within a group, that group is kept\n",
      " |  \n",
      " |  Attributes\n",
      " |  ----------\n",
      " |  MAT : int\n",
      " |      Material number\n",
      " |  \n",
      " |  MF : int\n",
      " |      File number\n",
      " |  \n",
      " |  MT : int\n",
      " |      Section/reaction number\n",
      " |  \n",
      " |  incident_energy : float\n",
      " |      Incident energy in eV\n",
      " |  \n",
      " |  num_groups : int\n",
      " |      Number of energy groups\n",
      " |      \n",
      " |  group_boundaries : int\n",
      " |      Boundaries of the energy groups\n",
      " |  \n",
      " |  mean_values : list\n",
      " |      Mean values of the quantity\n",
      " |  \n",
      " |  covariance_matrix : np.array\n",
      " |      Relative covariance matrix\n",
      " |  \n",
      " |  abs_covariance_matrix : np.array\n",
      " |      Absolute covariance matrix\n",
      " |  \n",
      " |  uncertainty : np.array\n",
      " |      The uncertainty values\n",
      " |  \n",
      " |  abs_uncertainty : np.array\n",
      " |      The absolute uncertainty values\n",
      " |  \n",
      " |  correlation_matrix : np.array\n",
      " |      Correlation matrix\n",
      " |  \n",
      " |  eig_values : np.array\n",
      " |      Sorted (largest to smallest) eigen values of the\n",
      " |      absolute covariance matrix\n",
      " |  \n",
      " |  eig_vectors : np.array\n",
      " |      Sorted (largest to smallest) eigen vectors of the\n",
      " |      absolute covariance matrix\n",
      " |  \n",
      " |  unc_convergence_table : pandas DataFrame\n",
      " |      pandas DataFrame with the absolute and relative difference\n",
      " |      between the overall uncertainty and the uncertainty of\n",
      " |      the covariance matrix reconstructed with k eigenvalues\n",
      " |  \n",
      " |  Methods\n",
      " |  -------\n",
      " |  get_correlation_matrix\n",
      " |      Function to get the uncertainty vector and correlation matrix\n",
      " |  \n",
      " |  get_eigenvalues\n",
      " |      Function to get sorted eigenvalues and eigenvectors\n",
      " |      of the absolute covariance matrix\n",
      " |  \n",
      " |  reconstruct_covariance \n",
      " |      Function to reconstruct the covariance matrix from the \n",
      " |      largest k eigenvalues\n",
      " |  \n",
      " |  get_pca_realizations\n",
      " |      Function to sample realizations by PCA, using the largest\n",
      " |      k components.\n",
      " |  \n",
      " |  quantify_uncertainty_convergence\n",
      " |      Function to quantify the convergence of the uncertainty vector\n",
      " |      as more PCA eigenvalues are added, optionally between certain\n",
      " |      energies.\n",
      " |  \n",
      " |  Methods defined here:\n",
      " |  \n",
      " |  __init__(self, energy_lines, mean_lines, covariance_lines, lower_limit=None, upper_limit=None)\n",
      " |      Initialize self.  See help(type(self)) for accurate signature.\n",
      " |  \n",
      " |  get_correlation_matrix(self)\n",
      " |      Function to get the uncertainty vector and correlation matrix\n",
      " |  \n",
      " |  get_eigenvalues(self)\n",
      " |      Function to get and sort eigenvalues and eigenvectors\n",
      " |      of the absolute covariance matrix\n",
      " |  \n",
      " |  get_pca_realizations(self, num_samples, k=None)\n",
      " |      Function to sample realizations by PCA, using the largest\n",
      " |      k components.\n",
      " |      \n",
      " |      Parameters\n",
      " |      ----------\n",
      " |      num_samples : int\n",
      " |          The number of samples\n",
      " |      \n",
      " |      k : int, optional, default is None\n",
      " |          the number of eigenvalues to use. If None, will use\n",
      " |          all of the eigenvalues of the covariane matrix\n",
      " |      \n",
      " |      Returns\n",
      " |      -------\n",
      " |      numpy array\n",
      " |          the sampled realizations\n",
      " |  \n",
      " |  quantify_uncertainty_convergence(self, e_min=0, e_max=30000000.0)\n",
      " |      Function to quantify the convergence of the uncertainty vector\n",
      " |      as more PCA eigenvalues are added, optionally between certain\n",
      " |      energies.\n",
      " |      \n",
      " |      Parameters\n",
      " |      ----------\n",
      " |      e_min : float, optional, default is 0 eV\n",
      " |          minimum energy to check for convergence at\n",
      " |      \n",
      " |      e_max : float, optional, default is 30 MeV\n",
      " |          maximum energy to check for convergence at\n",
      " |      \n",
      " |      Returns\n",
      " |      -------\n",
      " |      None, creates the attribute unc_convergence_table\n",
      " |  \n",
      " |  reconstruct_covariance(self, k=None)\n",
      " |      Function to reconstruct the covariance matrix from the \n",
      " |      largest k eigenvalues\n",
      " |      \n",
      " |      Parameters\n",
      " |      ----------\n",
      " |      k : int, optional, default is None\n",
      " |          the number of eigenvalues to use. If None, will use\n",
      " |          all of the eigenvalues of the covariane matrix\n",
      " |      \n",
      " |      Returns\n",
      " |      -------\n",
      " |      numpy array \n",
      " |          The covariance matrix reconstructed from the top k\n",
      " |          eigenvalues\n",
      " |  \n",
      " |  ----------------------------------------------------------------------\n",
      " |  Readonly properties defined here:\n",
      " |  \n",
      " |  MAT\n",
      " |  \n",
      " |  MF\n",
      " |  \n",
      " |  MT\n",
      " |  \n",
      " |  covariance_matrix\n",
      " |  \n",
      " |  group_boundaries\n",
      " |  \n",
      " |  incident_energy\n",
      " |  \n",
      " |  mean_values\n",
      " |  \n",
      " |  num_groups\n",
      " |  \n",
      " |  ----------------------------------------------------------------------\n",
      " |  Data descriptors defined here:\n",
      " |  \n",
      " |  __dict__\n",
      " |      dictionary for instance variables (if defined)\n",
      " |  \n",
      " |  __weakref__\n",
      " |      list of weak references to the object (if defined)\n",
      "\n"
     ]
    }
   ],
   "source": [
    "help(pfns)"
   ]
  },
  {
   "cell_type": "markdown",
   "metadata": {},
   "source": [
    "the eigenvalues and eigenvectors of the relative covariance matrix are calculated and sorted upon initialization of the object"
   ]
  },
  {
   "cell_type": "code",
   "execution_count": 5,
   "metadata": {},
   "outputs": [
    {
     "data": {
      "text/plain": [
       "array([ 2.37463130e-05,  7.49995398e-06,  4.36143693e-10,  1.05226529e-11,\n",
       "        9.06470580e-12,  7.71943849e-12,  6.54072614e-12,  6.13336238e-12,\n",
       "        5.66372732e-12,  4.35676210e-12,  4.02340674e-12,  3.49360933e-12,\n",
       "        2.76926802e-12,  2.45607725e-12,  2.31005702e-12,  1.95547541e-12,\n",
       "        1.64170449e-12,  1.45364987e-12,  1.41363440e-12,  1.19344586e-12,\n",
       "        1.12006359e-12,  1.08211992e-12,  1.03740866e-12,  1.00269565e-12,\n",
       "        9.22852136e-13,  8.87890088e-13,  8.16036421e-13,  7.37632582e-13,\n",
       "        6.78482830e-13,  6.60283307e-13,  5.39065309e-13,  4.99779218e-13,\n",
       "        4.36898879e-13,  4.05050474e-13,  3.61656987e-13,  3.26381438e-13,\n",
       "        2.61174063e-13,  2.40406232e-13,  1.83661890e-13,  1.61809953e-13,\n",
       "        1.29511985e-13,  1.16087384e-13,  9.79272793e-14,  7.12340035e-14,\n",
       "        5.75497865e-14,  3.99207977e-14,  3.51385047e-14,  2.76111549e-14,\n",
       "        2.60566112e-14,  2.18876189e-14,  2.08076886e-14,  1.79435918e-14,\n",
       "        1.32904215e-14,  1.20416392e-14,  1.07179344e-14,  8.79437391e-15,\n",
       "        8.63719803e-15,  7.69417942e-15,  6.56939879e-15,  6.14219265e-15,\n",
       "        4.57067435e-15,  4.22818732e-15,  3.29103256e-15,  3.08079671e-15,\n",
       "        2.56014350e-15,  2.26754771e-15,  1.11762627e-15,  1.03944734e-15,\n",
       "        7.85144903e-16,  3.22439296e-16,  1.64175216e-16,  1.39455986e-16,\n",
       "        5.94572267e-17,  4.74299063e-17,  4.54115866e-17,  3.55560928e-17,\n",
       "        2.34101296e-17,  1.95226568e-17,  1.67849446e-17,  1.50492282e-17,\n",
       "        1.28579565e-17,  1.17584862e-17,  1.02474023e-17,  8.20703884e-18,\n",
       "        7.43960813e-18,  6.98175625e-18,  4.85524566e-18,  3.98557322e-18,\n",
       "        3.08156895e-18,  2.68959651e-18,  1.78470120e-18,  1.17862643e-18,\n",
       "        6.89462660e-19,  1.39629373e-19,  7.57916514e-20,  6.80681124e-20,\n",
       "        4.67007148e-20,  3.86464292e-20,  3.73136648e-20,  3.04187661e-20,\n",
       "        2.57911757e-20,  1.75517525e-20,  1.61717647e-20,  1.41961285e-20,\n",
       "        1.05868618e-20,  7.33839222e-21,  7.09073077e-21,  5.94266631e-21,\n",
       "        5.78122163e-21,  5.44589864e-21,  3.80425714e-21,  3.30116241e-21,\n",
       "        2.30953630e-21,  1.57129825e-21,  1.22126648e-21,  7.10208754e-22,\n",
       "        3.79271731e-22,  7.00941603e-23,  5.99791878e-23,  3.56563204e-23,\n",
       "        3.30238283e-23,  3.04129320e-23,  2.76817078e-23,  1.84154875e-23,\n",
       "        1.46140359e-23,  1.10491704e-23,  9.82743754e-24,  7.85789268e-24,\n",
       "        7.61513640e-24,  5.51572141e-24,  5.05411414e-24,  3.97239746e-24,\n",
       "        3.27913920e-24,  1.09503659e-24, -1.22771157e-25, -3.78707433e-25,\n",
       "       -2.29066417e-24, -2.95061528e-24, -3.84263714e-24, -4.79376636e-24,\n",
       "       -5.20742033e-24, -7.01531335e-24, -9.40054347e-24, -1.05139119e-23,\n",
       "       -1.14678130e-23, -1.67603678e-23, -1.70091099e-23, -2.05476266e-23,\n",
       "       -2.09612966e-23, -2.66991339e-23, -2.84833666e-23, -3.51550026e-23,\n",
       "       -4.06796613e-23, -5.64423186e-23, -6.98092580e-23, -8.67840972e-23,\n",
       "       -1.28885162e-22, -1.36405660e-22, -1.48009499e-22, -5.45418896e-22,\n",
       "       -1.31233969e-21, -2.10463841e-21, -3.76476145e-21, -4.29278513e-21,\n",
       "       -4.30759720e-21, -5.11798601e-21, -5.29059889e-21, -5.90380875e-21,\n",
       "       -5.95684092e-21, -8.20791198e-21, -1.10478714e-20, -1.28112027e-20,\n",
       "       -1.45246057e-20, -1.79523436e-20, -1.79678090e-20, -2.28074582e-20,\n",
       "       -2.58976738e-20, -2.99027158e-20, -5.72432297e-20, -5.93944113e-20,\n",
       "       -7.31425818e-20, -1.26942133e-19, -1.41836713e-19, -1.16489862e-18,\n",
       "       -1.51722668e-18, -2.39470531e-18, -3.19480529e-18, -4.45502536e-18,\n",
       "       -4.67249014e-18, -5.73010837e-18, -6.86857009e-18, -7.09634789e-18,\n",
       "       -8.33154759e-18, -9.31378183e-18, -1.13451772e-17, -1.35374217e-17,\n",
       "       -1.57790872e-17, -1.67499552e-17, -1.98406861e-17, -2.23079033e-17,\n",
       "       -3.10011542e-17, -3.44893674e-17, -4.92385464e-17, -7.07975872e-17,\n",
       "       -1.17530104e-16, -2.86379157e-16, -4.49117056e-16, -1.02108392e-15,\n",
       "       -1.15165930e-15, -1.30955521e-15, -1.90209748e-15, -2.51300032e-15,\n",
       "       -3.45840726e-15, -3.76469968e-15, -4.37469743e-15, -4.95311725e-15,\n",
       "       -6.14229044e-15, -6.59375243e-15, -6.98626175e-15, -8.58534500e-15,\n",
       "       -9.23782802e-15, -9.78534055e-15, -1.11916055e-14, -1.31214058e-14,\n",
       "       -1.38095802e-14, -1.46765834e-14, -1.94934400e-14, -2.25075093e-14,\n",
       "       -3.25894077e-14, -3.70176550e-14, -5.01457258e-14, -7.03630880e-14,\n",
       "       -7.91942468e-14, -9.90037366e-14, -1.17803462e-13, -1.29715350e-13,\n",
       "       -1.53766979e-13, -1.63126672e-13, -2.25287191e-13, -2.53138353e-13,\n",
       "       -2.99757194e-13, -3.61696276e-13, -4.25111970e-13, -4.64443318e-13,\n",
       "       -5.08796408e-13, -5.75237909e-13, -6.00099362e-13, -6.32354921e-13,\n",
       "       -6.97892739e-13, -7.45402669e-13, -7.58320523e-13, -8.67564854e-13,\n",
       "       -8.94843998e-13, -9.30266667e-13, -1.05892208e-12, -1.16555872e-12,\n",
       "       -1.19824538e-12, -1.28848904e-12, -1.31446880e-12, -1.45361001e-12,\n",
       "       -1.48895798e-12, -1.57520706e-12, -2.11434540e-12, -2.30314813e-12,\n",
       "       -2.87275685e-12, -3.38124875e-12, -3.81336313e-12, -4.21390920e-12,\n",
       "       -4.77382430e-12, -5.23973098e-12, -6.42630911e-12, -8.00973311e-12,\n",
       "       -9.34498191e-12, -9.93244796e-12, -1.09931487e-11])"
      ]
     },
     "execution_count": 5,
     "metadata": {},
     "output_type": "execute_result"
    }
   ],
   "source": [
    "# eigenvalues\n",
    "pfns.eig_vals"
   ]
  },
  {
   "cell_type": "code",
   "execution_count": 6,
   "metadata": {},
   "outputs": [
    {
     "data": {
      "text/plain": [
       "array([[-6.04950742e-08,  5.10744127e-08, -1.78394463e-07, ...,\n",
       "        -3.17257987e-08, -4.68762337e-08,  6.66556476e-08],\n",
       "       [-6.62720249e-08,  5.59545510e-08, -1.95811877e-07, ...,\n",
       "        -6.44760773e-08, -3.22079867e-08, -1.15284096e-07],\n",
       "       [-7.15850086e-08,  6.04432014e-08, -2.11045175e-07, ...,\n",
       "         7.80202746e-08, -5.03323197e-08,  4.59390967e-08],\n",
       "       ...,\n",
       "       [ 3.55953778e-03,  1.70672829e-02, -1.35682846e-02, ...,\n",
       "         6.59599723e-03,  1.11817268e-02, -6.56070527e-03],\n",
       "       [ 9.09068098e-04,  4.62241893e-03, -1.58615095e-02, ...,\n",
       "         9.75298430e-05, -2.17088032e-04, -1.02448917e-03],\n",
       "       [ 2.36349953e-04,  1.18578821e-03, -8.40615269e-03, ...,\n",
       "        -6.00451141e-06, -6.03083558e-04, -5.52608217e-04]])"
      ]
     },
     "execution_count": 6,
     "metadata": {},
     "output_type": "execute_result"
    }
   ],
   "source": [
    "# eigenvectors\n",
    "pfns.eig_vects"
   ]
  },
  {
   "cell_type": "markdown",
   "metadata": {},
   "source": [
    "The eigenvectors can be plotted relative to the largest one"
   ]
  },
  {
   "cell_type": "code",
   "execution_count": 13,
   "metadata": {},
   "outputs": [
    {
     "data": {
      "text/plain": [
       "Text(0, 0.5, 'Eigenvalue (relative to max)')"
      ]
     },
     "execution_count": 13,
     "metadata": {},
     "output_type": "execute_result"
    },
    {
     "data": {
      "image/png": "[encoded data removed]",
      "text/plain": [
       "<Figure size 640x480 with 1 Axes>"
      ]
     },
     "metadata": {},
     "output_type": "display_data"
    }
   ],
   "source": [
    "indices = list(range(1,len(pfns.eig_vals)+1))\n",
    "plt.semilogy(indices, pfns.eig_vals/pfns.eig_vals[0])\n",
    "plt.scatter(indices,pfns.eig_vals/pfns.eig_vals[0])\n",
    "plt.xlabel(\"Eigenvalue index\")\n",
    "plt.ylabel(\"Eigenvalue (relative to max)\")"
   ]
  },
  {
   "cell_type": "markdown",
   "metadata": {},
   "source": [
    "In this case, the ENDF-7.1 PFNS for U235, the eigenvalues fall off very quickly because there are very strong correlations between outgoing energies"
   ]
  },
  {
   "cell_type": "markdown",
   "metadata": {},
   "source": [
    "## Reconstruct Covariance \n",
    "\n",
    "The covariance matrix can be reconstructed with any number of components using the `reconstruct_covariance` method. This can be used to make plots showing the contribution of the components to the uncertainty"
   ]
  },
  {
   "cell_type": "code",
   "execution_count": 14,
   "metadata": {},
   "outputs": [
    {
     "name": "stdout",
     "output_type": "stream",
     "text": [
      "Help on method reconstruct_covariance in module pyerr._section:\n",
      "\n",
      "reconstruct_covariance(k=None) method of pyerr._section.Section instance\n",
      "    Function to reconstruct the covariance matrix from the \n",
      "    largest k eigenvalues\n",
      "    \n",
      "    Parameters\n",
      "    ----------\n",
      "    k : int, optional, default is None\n",
      "        the number of eigenvalues to use. If None, will use\n",
      "        all of the eigenvalues of the covariane matrix\n",
      "    \n",
      "    Returns\n",
      "    -------\n",
      "    numpy array \n",
      "        The covariance matrix reconstructed from the top k\n",
      "        eigenvalues\n",
      "\n"
     ]
    }
   ],
   "source": [
    "help(pfns.reconstruct_covariance)"
   ]
  },
  {
   "cell_type": "code",
   "execution_count": 27,
   "metadata": {},
   "outputs": [
    {
     "data": {
      "text/plain": [
       "Text(0.5, 0, 'Relative Uncertainty')"
      ]
     },
     "execution_count": 27,
     "metadata": {},
     "output_type": "execute_result"
    },
    {
     "data": {
      "image/png": "[encoded data removed]",
      "text/plain": [
       "<Figure size 640x480 with 1 Axes>"
      ]
     },
     "metadata": {},
     "output_type": "display_data"
    }
   ],
   "source": [
    "# k is number of components\n",
    "for k in range(1,4):\n",
    "    \n",
    "    # reconstruct cov matrix\n",
    "    cov = pfns.reconstruct_covariance(k)\n",
    "\n",
    "    # get uncertainty from cov\n",
    "    unc = np.sqrt(np.diag(cov))\n",
    "\n",
    "    #plot\n",
    "    plt.step(pfns.group_boundaries[:-1],unc/pfns.mean_values,label=f\"k = {k}\", where='post')\n",
    "\n",
    "plt.legend()\n",
    "plt.yscale(\"log\")\n",
    "plt.xscale(\"log\")\n",
    "plt.xlim(1e3,2e7)\n",
    "plt.xlabel(\"Outgoing neutron energy [eV]\")\n",
    "plt.xlabel(\"Relative Uncertainty\")"
   ]
  },
  {
   "cell_type": "markdown",
   "metadata": {},
   "source": [
    "## PCA realizations\n",
    "\n",
    "the method `get_pca_realizations` can produce realizations of the PFNS based on the covariance reconstruct with any number of components"
   ]
  },
  {
   "cell_type": "code",
   "execution_count": 28,
   "metadata": {},
   "outputs": [],
   "source": [
    "pfns_samples = pfns.get_pca_realizations(k=1,num_samples=10)"
   ]
  },
  {
   "cell_type": "code",
   "execution_count": 29,
   "metadata": {},
   "outputs": [
    {
     "name": "stderr",
     "output_type": "stream",
     "text": [
      "No artists with labels found to put in legend.  Note that artists whose label start with an underscore are ignored when legend() is called with no argument.\n"
     ]
    },
    {
     "data": {
      "text/plain": [
       "Text(0.5, 1.0, 'ENDF7.1 Samples with k=1 components')"
      ]
     },
     "execution_count": 29,
     "metadata": {},
     "output_type": "execute_result"
    },
    {
     "data": {
      "image/png": "[encoded data removed]",
      "text/plain": [
       "<Figure size 640x480 with 1 Axes>"
      ]
     },
     "metadata": {},
     "output_type": "display_data"
    }
   ],
   "source": [
    "for sample in pfns_samples:\n",
    "    plt.step(pfns.group_boundaries[:-1],sample/pfns.mean_values)\n",
    "\n",
    "plt.ylabel(\"Ratio to mean values\")\n",
    "plt.xscale(\"log\")\n",
    "plt.xlim(1e3,2e7)\n",
    "plt.legend()\n",
    "plt.title(\"ENDF7.1 Samples with k=1 components\")"
   ]
  },
  {
   "cell_type": "code",
   "execution_count": null,
   "metadata": {},
   "outputs": [],
   "source": []
  }
 ],
 "metadata": {
  "kernelspec": {
   "display_name": "pyerr-testing",
   "language": "python",
   "name": "python3"
  },
  "language_info": {
   "codemirror_mode": {
    "name": "ipython",
    "version": 3
   },
   "file_extension": ".py",
   "mimetype": "text/x-python",
   "name": "python",
   "nbconvert_exporter": "python",
   "pygments_lexer": "ipython3",
   "version": "3.10.12"
  },
  "orig_nbformat": 4
 },
 "nbformat": 4,
 "nbformat_minor": 2
}
